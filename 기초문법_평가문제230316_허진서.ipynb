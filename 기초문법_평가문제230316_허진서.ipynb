{
 "cells": [
  {
   "cell_type": "markdown",
   "metadata": {
    "id": "VtAJg1BuQg1B"
   },
   "source": [
    "## 평가 개요\n",
    "- 평가과정 : 산대특 공공데이터 활용 빅데이터 분석 및 시각화 전문가 과정 육성\n",
    "- 교과목 : 기초문법\n",
    "- 단원명 : 파이썬 개발환경 구축 / 파이썬 기초문법\n",
    "- 평가기준 : 파이썬을 이용하여 다양한 모듈을 활용할 수 있다. \n",
    "- 평가일시 : 2023년 3월 16일\n",
    "- 평가자 : 정지훈 강사\n",
    "- 수강생 : 허진서"
   ]
  },
  {
   "cell_type": "markdown",
   "metadata": {
    "id": "ZcdAka8lS65u"
   },
   "source": [
    "## 문제 1. (6점)\n",
    "- 임의의 str, int, float 데이터 타입 변수를 지정하고 실제 데이터 타입을 출력한다. "
   ]
  },
  {
   "cell_type": "code",
   "execution_count": null,
   "metadata": {
    "colab": {
     "base_uri": "https://localhost:8080/"
    },
    "id": "tsi0BeLyQgN3",
    "outputId": "9fa71be5-e6f2-40a1-c4f0-7dd35a548d2c"
   },
   "outputs": [
    {
     "name": "stdout",
     "output_type": "stream",
     "text": [
      "<class 'str'>\n",
      "<class 'int'>\n",
      "<class 'float'>\n"
     ]
    }
   ],
   "source": [
    "a = \"휴먼\"\n",
    "b = 7\n",
    "c = 7.0\n",
    "\n",
    "print(type(a))\n",
    "print(type(b))\n",
    "print(type(c))"
   ]
  },
  {
   "cell_type": "markdown",
   "metadata": {
    "id": "-M__23nhTdae"
   },
   "source": [
    "## 문제 2. (6점)\n",
    "- 두개의 input함수를 활용하여 간산한 사칙연산을 작성하여 출력한다. \n",
    "  + 변수명 : var1, var2"
   ]
  },
  {
   "cell_type": "code",
   "execution_count": 34,
   "metadata": {
    "colab": {
     "base_uri": "https://localhost:8080/"
    },
    "id": "2bhttnX6TdA8",
    "outputId": "acbc21aa-5a23-415d-88f4-52a1d1ba1376"
   },
   "outputs": [
    {
     "name": "stdout",
     "output_type": "stream",
     "text": [
      "입력하세요4\n",
      "입력하세요2\n",
      "6\n",
      "2\n",
      "8\n",
      "2.0\n",
      "2\n",
      "16\n",
      "0\n"
     ]
    }
   ],
   "source": [
    "var1 = int(input(\"입력하세요\"))\n",
    "var2 = int(input(\"입력하세요\"))\n",
    "\n",
    "print(var1+var2)\n",
    "print(var1-var2)\n",
    "print(var1*var2)\n",
    "print(float(var1/var2))\n",
    "print(var1//var2)   \n",
    "print(var1**var2)   \n",
    "print(var1%var2)   "
   ]
  },
  {
   "cell_type": "markdown",
   "metadata": {
    "id": "xr4n-MEIT_ph"
   },
   "source": [
    "## 문제 3. (6점)\n",
    "- 다음과 같이 문자열이 주어져 있다. 문자열 연산자를 활용하여 `Hello World`를 출력한다. \n",
    "  + 출력을 위해 문자열을 임의로 변경할 수 있다. 그러나, 반드시 2개의 변수를 활용해야 한다. "
   ]
  },
  {
   "cell_type": "code",
   "execution_count": null,
   "metadata": {
    "colab": {
     "base_uri": "https://localhost:8080/"
    },
    "id": "ltQ0fV8uUgKM",
    "outputId": "8828ea8f-fcef-4ce1-ec06-8a6952d50089"
   },
   "outputs": [
    {
     "name": "stdout",
     "output_type": "stream",
     "text": [
      "Hello World\n"
     ]
    }
   ],
   "source": [
    "str1 = \"Hello \"\n",
    "str2 = \"World\"\n",
    "print(str1+str2)"
   ]
  },
  {
   "cell_type": "markdown",
   "metadata": {
    "id": "BpTOLktLUvP9"
   },
   "source": [
    "## 문제 4. (6점)\n",
    "- 다음과 같이 주어져 있을 때, 알파벳 K를 인덱싱하여 출력한다. "
   ]
  },
  {
   "cell_type": "code",
   "execution_count": 14,
   "metadata": {
    "colab": {
     "base_uri": "https://localhost:8080/"
    },
    "id": "Nzy6tGoxUuq5",
    "outputId": "d4459c3e-e1bf-4e55-8a92-9bd1e34770ff"
   },
   "outputs": [
    {
     "name": "stdout",
     "output_type": "stream",
     "text": [
      "K\n"
     ]
    }
   ],
   "source": [
    "greeting = \"Hello Kaggle\"\n",
    "\n",
    "print(greeting[6])"
   ]
  },
  {
   "cell_type": "markdown",
   "metadata": {
    "id": "FpD_sB-bU97d"
   },
   "source": [
    "## 문제 5. (6점)\n",
    "- 다음과 같이 주어져 있을 때, Kaggle만 슬라이싱하여 출력한다. "
   ]
  },
  {
   "cell_type": "code",
   "execution_count": 15,
   "metadata": {
    "colab": {
     "base_uri": "https://localhost:8080/"
    },
    "id": "ig--fFpGVGU5",
    "outputId": "9532eb29-16e3-42cb-e87a-8b7744d9381a"
   },
   "outputs": [
    {
     "name": "stdout",
     "output_type": "stream",
     "text": [
      "Kaggle\n"
     ]
    }
   ],
   "source": [
    "greeting = \"Hello Kaggle\"\n",
    "\n",
    "print(greeting[6:])"
   ]
  },
  {
   "cell_type": "markdown",
   "metadata": {
    "id": "R839vvJzVIDm"
   },
   "source": [
    "## 문제 6. (6점)\n",
    "- 리스트와 튜플의 차이에 대해 간단하게 설명하세요.\n",
    "- 정답 : "
   ]
  },
  {
   "cell_type": "code",
   "execution_count": null,
   "metadata": {
    "id": "rMgEzwb2VXMm"
   },
   "outputs": [],
   "source": [
    "# 리스트는 값을 수정, 삭제 할 수 있지만, 튜플은 수정, 삭제가 불가능하다. \n",
    "# 또한 튜플은 리스트와 달리 packing 과 unpacking이 가능하다."
   ]
  },
  {
   "cell_type": "markdown",
   "metadata": {
    "id": "PeWKjyzVVWyT"
   },
   "source": [
    "## 문제 7. (6점)\n",
    "- 다음과 같이 중첩리스트가 주어져 있을 때, `cheery` 글자의 마지막 글자 `y`를 출력한다. "
   ]
  },
  {
   "cell_type": "code",
   "execution_count": 16,
   "metadata": {
    "colab": {
     "base_uri": "https://localhost:8080/"
    },
    "id": "uU-Xdh0yVqpF",
    "outputId": "b52eb10d-d317-43fa-fa31-e1aaec31e0cf"
   },
   "outputs": [
    {
     "name": "stdout",
     "output_type": "stream",
     "text": [
      "y\n"
     ]
    }
   ],
   "source": [
    "a = [['apple','banana','cherry'], 1]\n",
    "print(a[0][2][5])"
   ]
  },
  {
   "cell_type": "markdown",
   "metadata": {
    "id": "GqZpA36_Vs0B"
   },
   "source": [
    "## 문제 8. (6점)\n",
    "- 주어진 리스트에서 알파벳 글자를 모두 임의의 숫자로 변경하세요"
   ]
  },
  {
   "cell_type": "code",
   "execution_count": 18,
   "metadata": {
    "colab": {
     "base_uri": "https://localhost:8080/"
    },
    "id": "wDPyzUqpV24C",
    "outputId": "a1aedaa0-3f00-4b34-89ec-3881621116b3"
   },
   "outputs": [
    {
     "name": "stdout",
     "output_type": "stream",
     "text": [
      "[1, 2, 7, 3, 21]\n"
     ]
    }
   ],
   "source": [
    "a = [1, 2, \"A\", 3, \"D\"]\n",
    "a[2]=7\n",
    "a[4]=21\n",
    "print(a)"
   ]
  },
  {
   "cell_type": "markdown",
   "metadata": {
    "id": "IYIXVxJ2V7zZ"
   },
   "source": [
    "## 문제 9. (6점)\n",
    "- 다음과 같은 리스트가 있을 때, 오름차순과 내림차순을 각각 출력하세요. "
   ]
  },
  {
   "cell_type": "code",
   "execution_count": 26,
   "metadata": {
    "colab": {
     "base_uri": "https://localhost:8080/"
    },
    "id": "-w62paAJVHxg",
    "outputId": "bc22c485-6fac-4a62-829c-21e218c0434d"
   },
   "outputs": [
    {
     "name": "stdout",
     "output_type": "stream",
     "text": [
      "[1, 2, 3, 4, 5]\n"
     ]
    }
   ],
   "source": [
    "a = [5, 2, 3, 1, 4]\n",
    "a.sort()\n",
    "print(a)\n"
   ]
  },
  {
   "cell_type": "code",
   "execution_count": 27,
   "metadata": {
    "colab": {
     "base_uri": "https://localhost:8080/"
    },
    "id": "EDIW087XXiID",
    "outputId": "0cdc88d5-4776-4b12-d1a5-daa11df8d2d5"
   },
   "outputs": [
    {
     "name": "stdout",
     "output_type": "stream",
     "text": [
      "[5, 4, 3, 2, 1]\n"
     ]
    }
   ],
   "source": [
    "a = [5, 2, 3, 1, 4]\n",
    "a.sort(reverse=True)\n",
    "print(a)"
   ]
  },
  {
   "cell_type": "markdown",
   "metadata": {
    "id": "NsFwCfscWKYq"
   },
   "source": [
    "## 문제 10. (6점)\n",
    "- 아래 코드를 리스트 컴프리헨션으로 변환한다. "
   ]
  },
  {
   "cell_type": "code",
   "execution_count": 28,
   "metadata": {
    "colab": {
     "base_uri": "https://localhost:8080/"
    },
    "id": "mvB1as79U7sH",
    "outputId": "39cecb91-4af5-46cc-9424-efe7dc7ebc3c"
   },
   "outputs": [
    {
     "name": "stdout",
     "output_type": "stream",
     "text": [
      "['apple', 'mango']\n"
     ]
    }
   ],
   "source": [
    "fruits = [\"apple\", \"kiwi\", \"mango\"]\n",
    "newlist = []\n",
    "\n",
    "for fruit in fruits:\n",
    "  # print(fruit)\n",
    "  if \"a\" in fruit:\n",
    "    newlist.append(fruit)\n",
    "print(newlist)"
   ]
  },
  {
   "cell_type": "code",
   "execution_count": 29,
   "metadata": {
    "colab": {
     "base_uri": "https://localhost:8080/"
    },
    "id": "SHppUBseYJVU",
    "outputId": "8d3d4e88-d385-45c0-e27f-520c01600dbd"
   },
   "outputs": [
    {
     "name": "stdout",
     "output_type": "stream",
     "text": [
      "apple\n",
      "['apple']\n",
      "kiwi\n",
      "mango\n",
      "['apple', 'mango']\n"
     ]
    }
   ],
   "source": [
    "fruits = ['apple','kiwi','mango']\n",
    "\n",
    "newlist = []\n",
    "for fruit in fruits:\n",
    "  \n",
    "  print(fruit)\n",
    "\n",
    "  if \"a\" in fruit:\n",
    "    newlist.append(fruit)\n",
    "\n",
    "    print(newlist)"
   ]
  },
  {
   "cell_type": "code",
   "execution_count": 30,
   "metadata": {
    "colab": {
     "base_uri": "https://localhost:8080/"
    },
    "id": "opXzlOusYsHO",
    "outputId": "517a558c-7d09-4a4c-b50d-a0f6aab5007e"
   },
   "outputs": [
    {
     "data": {
      "text/plain": [
       "True"
      ]
     },
     "execution_count": 30,
     "metadata": {},
     "output_type": "execute_result"
    }
   ],
   "source": [
    "fruits = ['apple','kiwi','mango']\n",
    "\"a\" in fruits[2]"
   ]
  }
 ],
 "metadata": {
  "colab": {
   "provenance": [],
   "toc_visible": true
  },
  "kernelspec": {
   "display_name": "Python 3 (ipykernel)",
   "language": "python",
   "name": "python3"
  },
  "language_info": {
   "codemirror_mode": {
    "name": "ipython",
    "version": 3
   },
   "file_extension": ".py",
   "mimetype": "text/x-python",
   "name": "python",
   "nbconvert_exporter": "python",
   "pygments_lexer": "ipython3",
   "version": "3.9.13"
  }
 },
 "nbformat": 4,
 "nbformat_minor": 4
}
