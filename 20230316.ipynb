{
  "nbformat": 4,
  "nbformat_minor": 0,
  "metadata": {
    "colab": {
      "provenance": [],
      "collapsed_sections": [
        "PTdSyNJtziri",
        "QGQxUz-d47hL",
        "uoBrqaP0ACZW",
        "gdsEL9qeB-Q1",
        "Egw2uCRZCELB"
      ]
    },
    "kernelspec": {
      "name": "python3",
      "display_name": "Python 3"
    },
    "language_info": {
      "name": "python"
    }
  },
  "cells": [
    {
      "cell_type": "markdown",
      "source": [
        "#데이터분석, 머신러닝"
      ],
      "metadata": {
        "id": "BFNQBxHLzTZe"
      }
    },
    {
      "cell_type": "markdown",
      "source": [
        "## Numpy 라이브러리 불러오기\n",
        "- https://numpy.org/doc/stable/"
      ],
      "metadata": {
        "id": "PTdSyNJtziri"
      }
    },
    {
      "cell_type": "code",
      "execution_count": 1,
      "metadata": {
        "colab": {
          "base_uri": "https://localhost:8080/"
        },
        "id": "dZ-GtNKTzAT9",
        "outputId": "c7d14442-f32e-45f3-a20a-b77396500c42"
      },
      "outputs": [
        {
          "output_type": "stream",
          "name": "stdout",
          "text": [
            "1.22.4\n"
          ]
        }
      ],
      "source": [
        "import numpy as np   # np는 약어\n",
        "print(np.__version__)"
      ]
    },
    {
      "cell_type": "code",
      "source": [
        "import numpy\n",
        "print(numpy.__version__)"
      ],
      "metadata": {
        "colab": {
          "base_uri": "https://localhost:8080/"
        },
        "id": "X0P4wVbU4p9G",
        "outputId": "92f0f72e-403d-49bf-a068-1a0b77f22631"
      },
      "execution_count": 2,
      "outputs": [
        {
          "output_type": "stream",
          "name": "stdout",
          "text": [
            "1.22.4\n"
          ]
        }
      ]
    },
    {
      "cell_type": "markdown",
      "source": [
        "## 리스트를 배열로 변환\n"
      ],
      "metadata": {
        "id": "QGQxUz-d47hL"
      }
    },
    {
      "cell_type": "code",
      "source": [
        "temp = [1, 2, 3, 4, 5, 6, 7, 8, 9, 10]\n",
        "temp_array = np.array(temp)\n",
        "print(temp)          #리스트는 쉼표가 있음\n",
        "print(temp_array)    #배열은 쉼표가 없음"
      ],
      "metadata": {
        "colab": {
          "base_uri": "https://localhost:8080/"
        },
        "id": "n_rKSchH5BxX",
        "outputId": "d7a618fe-d641-45f6-f315-fe984545015a"
      },
      "execution_count": 4,
      "outputs": [
        {
          "output_type": "stream",
          "name": "stdout",
          "text": [
            "[1, 2, 3, 4, 5, 6, 7, 8, 9, 10]\n",
            "[ 1  2  3  4  5  6  7  8  9 10]\n"
          ]
        }
      ]
    },
    {
      "cell_type": "code",
      "source": [
        "print(type(temp))      #리스트\n",
        "print(type(temp_array))  # 배열\n",
        "print(temp_array.shape)\n",
        "print(temp_array.ndim)\n"
      ],
      "metadata": {
        "colab": {
          "base_uri": "https://localhost:8080/"
        },
        "id": "6bRdoHlD5d4R",
        "outputId": "b51d56ab-32cd-4f77-e9d0-c9b62b79b6aa"
      },
      "execution_count": 7,
      "outputs": [
        {
          "output_type": "stream",
          "name": "stdout",
          "text": [
            "<class 'list'>\n",
            "<class 'numpy.ndarray'>\n",
            "(10,)\n",
            "1\n"
          ]
        }
      ]
    },
    {
      "cell_type": "markdown",
      "source": [
        "- 참조: https://numpy.org/doc/stable/reference/index.html#reference"
      ],
      "metadata": {
        "id": "hGphRE3a5t-u"
      }
    },
    {
      "cell_type": "code",
      "source": [
        "temp_array[1]"
      ],
      "metadata": {
        "colab": {
          "base_uri": "https://localhost:8080/"
        },
        "id": "eHA4mB5V6Qvm",
        "outputId": "9083c722-8f2b-41bd-8ff0-93cf399fe786"
      },
      "execution_count": 6,
      "outputs": [
        {
          "output_type": "execute_result",
          "data": {
            "text/plain": [
              "2"
            ]
          },
          "metadata": {},
          "execution_count": 6
        }
      ]
    },
    {
      "cell_type": "code",
      "source": [
        "temp_array[-1]"
      ],
      "metadata": {
        "colab": {
          "base_uri": "https://localhost:8080/"
        },
        "id": "4tD83UtF6X4Y",
        "outputId": "f7bc6921-3c1c-4d6e-9a3a-8cc2d7fe436b"
      },
      "execution_count": 8,
      "outputs": [
        {
          "output_type": "execute_result",
          "data": {
            "text/plain": [
              "10"
            ]
          },
          "metadata": {},
          "execution_count": 8
        }
      ]
    },
    {
      "cell_type": "markdown",
      "source": [
        "## 사칙연산"
      ],
      "metadata": {
        "id": "QuSk89UF6cjA"
      }
    },
    {
      "cell_type": "code",
      "source": [
        "score1 = [10, 15, 40, 50, 80]\n",
        "score2 = [30, 40, 70, 50, 100]\n",
        "\n",
        "score1+score2"
      ],
      "metadata": {
        "colab": {
          "base_uri": "https://localhost:8080/"
        },
        "id": "8hcAXMBe6iiN",
        "outputId": "e56895ec-59fa-4b05-bf01-40c971116aad"
      },
      "execution_count": 85,
      "outputs": [
        {
          "output_type": "execute_result",
          "data": {
            "text/plain": [
              "[10, 15, 40, 50, 80, 30, 40, 70, 50, 100]"
            ]
          },
          "metadata": {},
          "execution_count": 85
        }
      ]
    },
    {
      "cell_type": "code",
      "source": [
        "score1_arr = np.array(score1)  #리스트를 사칙연산이 가능한 numpy로 변행해서 연산함.\n",
        "score2_arr = np.array(score2)\n",
        "\n",
        "result = score1_arr + score2_arr"
      ],
      "metadata": {
        "id": "A26rNtaG608U"
      },
      "execution_count": 86,
      "outputs": []
    },
    {
      "cell_type": "code",
      "source": [
        "np.min(result)"
      ],
      "metadata": {
        "colab": {
          "base_uri": "https://localhost:8080/"
        },
        "id": "8zLW1EoE_Onc",
        "outputId": "42cbabd2-669b-4576-a232-fb3e37f1b61b"
      },
      "execution_count": 87,
      "outputs": [
        {
          "output_type": "execute_result",
          "data": {
            "text/plain": [
              "40"
            ]
          },
          "metadata": {},
          "execution_count": 87
        }
      ]
    },
    {
      "cell_type": "code",
      "source": [
        "np.max(result)"
      ],
      "metadata": {
        "colab": {
          "base_uri": "https://localhost:8080/"
        },
        "id": "Kbu3sR0Y_lA7",
        "outputId": "7c4e1b8f-5c69-4d77-b693-bc0c4e2fb394"
      },
      "execution_count": 88,
      "outputs": [
        {
          "output_type": "execute_result",
          "data": {
            "text/plain": [
              "180"
            ]
          },
          "metadata": {},
          "execution_count": 88
        }
      ]
    },
    {
      "cell_type": "code",
      "source": [
        "np.sum(result)"
      ],
      "metadata": {
        "colab": {
          "base_uri": "https://localhost:8080/"
        },
        "id": "S30wFPAh_vrw",
        "outputId": "547b52ae-510d-47f9-d9f5-3987dc948f7b"
      },
      "execution_count": 89,
      "outputs": [
        {
          "output_type": "execute_result",
          "data": {
            "text/plain": [
              "485"
            ]
          },
          "metadata": {},
          "execution_count": 89
        }
      ]
    },
    {
      "cell_type": "markdown",
      "source": [
        "## 배열(행렬)의 생성\n",
        "- 0차원부터 3차원까지로 구성"
      ],
      "metadata": {
        "id": "uoBrqaP0ACZW"
      }
    },
    {
      "cell_type": "code",
      "source": [
        "temp_arr = np.array(30)\n",
        "print(temp_arr)\n",
        "print(type(temp_arr))\n",
        "print()\n",
        "print(temp_arr.shape)"
      ],
      "metadata": {
        "colab": {
          "base_uri": "https://localhost:8080/"
        },
        "id": "70WvyJHcAH2j",
        "outputId": "408c9ef4-a9f9-468c-d0c1-b3681de823da"
      },
      "execution_count": 29,
      "outputs": [
        {
          "output_type": "stream",
          "name": "stdout",
          "text": [
            "30\n",
            "<class 'numpy.ndarray'>\n",
            "\n",
            "()\n"
          ]
        }
      ]
    },
    {
      "cell_type": "code",
      "source": [
        "temp_arr = np.array([1, 2, 3])\n",
        "print(temp_arr.shape)\n",
        "print(temp_arr.ndim)  # 1차원 배열"
      ],
      "metadata": {
        "colab": {
          "base_uri": "https://localhost:8080/"
        },
        "id": "76COKjDcAgmK",
        "outputId": "c1e5422a-8fab-4124-be12-32bd181893c5"
      },
      "execution_count": 31,
      "outputs": [
        {
          "output_type": "stream",
          "name": "stdout",
          "text": [
            "(3,)\n",
            "1\n"
          ]
        }
      ]
    },
    {
      "cell_type": "markdown",
      "source": [
        "## 2차원\n",
        "- 정형 데이터(엑셀 데이터)"
      ],
      "metadata": {
        "id": "gdsEL9qeB-Q1"
      }
    },
    {
      "cell_type": "code",
      "source": [
        "temp_arr = np.array([[1, 2, 3],[4, 5, 6,]])\n",
        "print(temp_arr.shape)\n",
        "print(temp_arr.ndim)  # 1차원 배열"
      ],
      "metadata": {
        "colab": {
          "base_uri": "https://localhost:8080/"
        },
        "id": "NYTVkqVLBY4h",
        "outputId": "a364f111-342c-41a5-b99b-72e3cb21d1b5"
      },
      "execution_count": 35,
      "outputs": [
        {
          "output_type": "stream",
          "name": "stdout",
          "text": [
            "(2, 3)\n",
            "2\n"
          ]
        }
      ]
    },
    {
      "cell_type": "markdown",
      "source": [
        "## 3차원 데이터\n",
        "- 이미지 데이터"
      ],
      "metadata": {
        "id": "Egw2uCRZCELB"
      }
    },
    {
      "cell_type": "code",
      "source": [
        "temp_arr = np.array([[[1, 2, 3],[4, 5, 6,]],[[1, 2, 3],[4, 5, 6,]]])\n",
        "print(temp_arr.shape)\n",
        "print(temp_arr.ndim) "
      ],
      "metadata": {
        "colab": {
          "base_uri": "https://localhost:8080/"
        },
        "id": "88rTcWqrCGaH",
        "outputId": "16befdac-5bdc-45e1-d8c4-2645949132ea"
      },
      "execution_count": 34,
      "outputs": [
        {
          "output_type": "stream",
          "name": "stdout",
          "text": [
            "(2, 2, 3)\n",
            "3\n"
          ]
        }
      ]
    },
    {
      "cell_type": "code",
      "source": [
        "temp_arr = np.array([1, 2, 3, 4], ndmin = 3)\n",
        "print(temp_arr.shape)\n",
        "print(temp_arr.ndim)"
      ],
      "metadata": {
        "colab": {
          "base_uri": "https://localhost:8080/"
        },
        "id": "ojvtVakWC6dn",
        "outputId": "e16910a5-825c-46c2-d5c9-eac46bfefe52"
      },
      "execution_count": 39,
      "outputs": [
        {
          "output_type": "stream",
          "name": "stdout",
          "text": [
            "(1, 1, 4)\n",
            "3\n"
          ]
        }
      ]
    },
    {
      "cell_type": "markdown",
      "source": [
        "## 배열 생성의 다양한 방법들\n",
        "- 모두 0으로 채운다"
      ],
      "metadata": {
        "id": "k71cXdv4Dxd6"
      }
    },
    {
      "cell_type": "code",
      "source": [
        "temp_arr = np.zeros((5, 10))\n",
        "temp_arr.dtype  #배열 원소가 실수형 타입 1.,1.,"
      ],
      "metadata": {
        "colab": {
          "base_uri": "https://localhost:8080/"
        },
        "id": "sRjT_XdPDhMy",
        "outputId": "2720ccb8-1374-411c-d2ec-307f9ae89f52"
      },
      "execution_count": 45,
      "outputs": [
        {
          "output_type": "execute_result",
          "data": {
            "text/plain": [
              "dtype('float64')"
            ]
          },
          "metadata": {},
          "execution_count": 45
        }
      ]
    },
    {
      "cell_type": "code",
      "source": [
        "temp_arr = np.ones((5, 10))\n",
        "temp_arr"
      ],
      "metadata": {
        "colab": {
          "base_uri": "https://localhost:8080/"
        },
        "id": "kVZm7YJSD6PX",
        "outputId": "6679dcc0-e38f-409d-9b15-7d3f834a8d6b"
      },
      "execution_count": 46,
      "outputs": [
        {
          "output_type": "execute_result",
          "data": {
            "text/plain": [
              "array([[1., 1., 1., 1., 1., 1., 1., 1., 1., 1.],\n",
              "       [1., 1., 1., 1., 1., 1., 1., 1., 1., 1.],\n",
              "       [1., 1., 1., 1., 1., 1., 1., 1., 1., 1.],\n",
              "       [1., 1., 1., 1., 1., 1., 1., 1., 1., 1.],\n",
              "       [1., 1., 1., 1., 1., 1., 1., 1., 1., 1.]])"
            ]
          },
          "metadata": {},
          "execution_count": 46
        }
      ]
    },
    {
      "cell_type": "markdown",
      "source": [
        "- 임의의 상수값으로 채운다"
      ],
      "metadata": {
        "id": "DMo1uc54FAD3"
      }
    },
    {
      "cell_type": "code",
      "source": [
        "temp_arr = np.full((2, 3), 10)\n",
        "temp_arr"
      ],
      "metadata": {
        "colab": {
          "base_uri": "https://localhost:8080/"
        },
        "id": "MPpUGM8UFC0N",
        "outputId": "fab078a8-b691-4db7-8355-1e5cf3d6b9dd"
      },
      "execution_count": 47,
      "outputs": [
        {
          "output_type": "execute_result",
          "data": {
            "text/plain": [
              "array([[10, 10, 10],\n",
              "       [10, 10, 10]])"
            ]
          },
          "metadata": {},
          "execution_count": 47
        }
      ]
    },
    {
      "cell_type": "markdown",
      "source": [
        "- 최소 및 최대 숫자의 범위를 정해두고, 구간별로 값을 생성하는 코드를 작성함"
      ],
      "metadata": {
        "id": "p6-wqvQxFTgs"
      }
    },
    {
      "cell_type": "code",
      "source": [
        "temp_arr = np.linspace(5, 1000, 5)  ## 5와 10사이에 5개의 숫자가 나와야 함\n",
        "temp_arr"
      ],
      "metadata": {
        "colab": {
          "base_uri": "https://localhost:8080/"
        },
        "id": "tToZUHMiFZAa",
        "outputId": "ebbf9269-9fc7-47c9-d6f0-7a73a7627dbf"
      },
      "execution_count": 50,
      "outputs": [
        {
          "output_type": "execute_result",
          "data": {
            "text/plain": [
              "array([   5.  ,  253.75,  502.5 ,  751.25, 1000.  ])"
            ]
          },
          "metadata": {},
          "execution_count": 50
        }
      ]
    },
    {
      "cell_type": "markdown",
      "source": [
        "- 범위를 구하는 배열\n",
        "- np.arange()"
      ],
      "metadata": {
        "id": "41zfFPJaHV9s"
      }
    },
    {
      "cell_type": "code",
      "source": [
        "temp_arr = np.arange(1, 100, 4)\n",
        "temp_arr"
      ],
      "metadata": {
        "colab": {
          "base_uri": "https://localhost:8080/"
        },
        "id": "TSERd8MZHeSe",
        "outputId": "4bb8cc98-813b-4c19-c47a-11ddf6d2cf8f"
      },
      "execution_count": 52,
      "outputs": [
        {
          "output_type": "execute_result",
          "data": {
            "text/plain": [
              "array([ 1,  5,  9, 13, 17, 21, 25, 29, 33, 37, 41, 45, 49, 53, 57, 61, 65,\n",
              "       69, 73, 77, 81, 85, 89, 93, 97])"
            ]
          },
          "metadata": {},
          "execution_count": 52
        }
      ]
    },
    {
      "cell_type": "markdown",
      "source": [
        "- 임의의 난수 생성 (3가지 방법이 있음)"
      ],
      "metadata": {
        "id": "xP74Flc6ILLh"
      }
    },
    {
      "cell_type": "code",
      "source": [
        "from numpy.random import rand\n",
        "x = rand()\n",
        "print(x)"
      ],
      "metadata": {
        "colab": {
          "base_uri": "https://localhost:8080/"
        },
        "id": "-k6iTwhwIwdX",
        "outputId": "2444aff7-470f-453d-cad1-410d3207b5fe"
      },
      "execution_count": 55,
      "outputs": [
        {
          "output_type": "stream",
          "name": "stdout",
          "text": [
            "0.9448760451352095\n"
          ]
        }
      ]
    },
    {
      "cell_type": "code",
      "source": [
        "from numpy import random\n",
        "\n",
        "x = random.rand()\n",
        "print(x)"
      ],
      "metadata": {
        "colab": {
          "base_uri": "https://localhost:8080/"
        },
        "id": "nWeN8knJIOAr",
        "outputId": "9a4dd7c6-5e29-4f5c-9504-49a52b39aa66"
      },
      "execution_count": 53,
      "outputs": [
        {
          "output_type": "stream",
          "name": "stdout",
          "text": [
            "0.3749271402894182\n"
          ]
        }
      ]
    },
    {
      "cell_type": "code",
      "source": [
        "import numpy as np\n",
        "x = np.random.rand()\n",
        "print(x)"
      ],
      "metadata": {
        "colab": {
          "base_uri": "https://localhost:8080/"
        },
        "id": "Za0T4yUCH6GA",
        "outputId": "fc8f9c08-cb84-49e8-80de-f603a3b29672"
      },
      "execution_count": 54,
      "outputs": [
        {
          "output_type": "stream",
          "name": "stdout",
          "text": [
            "0.980443248378877\n"
          ]
        }
      ]
    },
    {
      "cell_type": "markdown",
      "source": [
        "## 배열 연산\n",
        "- 덧셈 : np.add()\n",
        "- 뺄셈 : np.subtract()\n",
        "- 곱셈 : np.muptiply()\n",
        "- 나눗셈 : np.divide()"
      ],
      "metadata": {
        "id": "915EilpHPR-L"
      }
    },
    {
      "cell_type": "code",
      "source": [
        "import numpy as np\n",
        "\n",
        "array_01 = np.array([1, 2, 3]) \n",
        "array_02 = np.array([10, 20, 30]) \n",
        "## 덧셈\n",
        "result = np.add(array_01, array_02)\n",
        "result"
      ],
      "metadata": {
        "colab": {
          "base_uri": "https://localhost:8080/"
        },
        "id": "_AfMIiSgPkR8",
        "outputId": "9a317a61-a913-42fe-c33b-6049fa12757d"
      },
      "execution_count": 57,
      "outputs": [
        {
          "output_type": "execute_result",
          "data": {
            "text/plain": [
              "array([11, 22, 33])"
            ]
          },
          "metadata": {},
          "execution_count": 57
        }
      ]
    },
    {
      "cell_type": "code",
      "source": [
        "# 뺄셈\n",
        "result = np.subtract(array_01, array_02)\n",
        "result"
      ],
      "metadata": {
        "colab": {
          "base_uri": "https://localhost:8080/"
        },
        "id": "DoGzGMvBQAuY",
        "outputId": "4a749097-ec9f-459c-ac63-bf6d41c12af9"
      },
      "execution_count": 58,
      "outputs": [
        {
          "output_type": "execute_result",
          "data": {
            "text/plain": [
              "array([ -9, -18, -27])"
            ]
          },
          "metadata": {},
          "execution_count": 58
        }
      ]
    },
    {
      "cell_type": "code",
      "source": [
        "# 곱셈\n",
        "result = np.multiply(array_01, array_02)\n",
        "result"
      ],
      "metadata": {
        "colab": {
          "base_uri": "https://localhost:8080/"
        },
        "id": "1FrmVIPUQIjY",
        "outputId": "56cfaaf9-842e-4df0-fe1a-d69d9c1d9975"
      },
      "execution_count": 59,
      "outputs": [
        {
          "output_type": "execute_result",
          "data": {
            "text/plain": [
              "array([10, 40, 90])"
            ]
          },
          "metadata": {},
          "execution_count": 59
        }
      ]
    },
    {
      "cell_type": "code",
      "source": [
        "#나눗셈\n",
        "result = np.divide(array_01, array_02)\n",
        "result"
      ],
      "metadata": {
        "colab": {
          "base_uri": "https://localhost:8080/"
        },
        "id": "ok8gFbFzQT_w",
        "outputId": "5008bb50-b7c8-4518-8bc7-9efa11207727"
      },
      "execution_count": 60,
      "outputs": [
        {
          "output_type": "execute_result",
          "data": {
            "text/plain": [
              "array([0.1, 0.1, 0.1])"
            ]
          },
          "metadata": {},
          "execution_count": 60
        }
      ]
    },
    {
      "cell_type": "code",
      "source": [
        "array_01 = np.array([1, 2, 3])\n",
        "array_02 = np.array([1, 2, 3])\n",
        "\n",
        "result = np.power(array_01, array_02)\n",
        "print(result)"
      ],
      "metadata": {
        "colab": {
          "base_uri": "https://localhost:8080/"
        },
        "id": "d6amyQw4Qclr",
        "outputId": "cb316aa2-0cf9-4f31-de01-80df3afdd09e"
      },
      "execution_count": 61,
      "outputs": [
        {
          "output_type": "stream",
          "name": "stdout",
          "text": [
            "[ 1  4 27]\n"
          ]
        }
      ]
    },
    {
      "cell_type": "markdown",
      "source": [
        "## 소숫점 정렬\n",
        "- 소수점 절삭"
      ],
      "metadata": {
        "id": "WLCqB9J8Q0qb"
      }
    },
    {
      "cell_type": "markdown",
      "source": [
        "- 프로그램 코드는 실행속도를 체크\n",
        "- 어떤 함수가 속도가 빠른지를 체크해서 시간 절약"
      ],
      "metadata": {
        "id": "mBtBO2wzSZyb"
      }
    },
    {
      "cell_type": "code",
      "source": [
        "%%time\n",
        "\n",
        "temp_arr = np.trunc([-1.23, 1.23])\n",
        "print(temp_arr)"
      ],
      "metadata": {
        "colab": {
          "base_uri": "https://localhost:8080/"
        },
        "id": "ElkCRP-tRRxe",
        "outputId": "698550a4-e747-41c7-e0fd-b2887cd16e26"
      },
      "execution_count": 70,
      "outputs": [
        {
          "output_type": "stream",
          "name": "stdout",
          "text": [
            "[-1.  1.]\n",
            "CPU times: user 1.75 ms, sys: 0 ns, total: 1.75 ms\n",
            "Wall time: 1.69 ms\n"
          ]
        }
      ]
    },
    {
      "cell_type": "code",
      "source": [
        "%%time\n",
        "\n",
        "temp_arr = np.fix([-1.23, 1.23])\n",
        "print(temp_arr)"
      ],
      "metadata": {
        "colab": {
          "base_uri": "https://localhost:8080/"
        },
        "id": "tOZn34NGRZpX",
        "outputId": "e6d903a9-f3c9-4c32-d216-2b061b8b0487"
      },
      "execution_count": 71,
      "outputs": [
        {
          "output_type": "stream",
          "name": "stdout",
          "text": [
            "[-1.  1.]\n",
            "CPU times: user 1.61 ms, sys: 0 ns, total: 1.61 ms\n",
            "Wall time: 1.61 ms\n"
          ]
        }
      ]
    },
    {
      "cell_type": "markdown",
      "source": [
        "- 소수점 자리에서 반올림"
      ],
      "metadata": {
        "id": "EpBueGWwSDUR"
      }
    },
    {
      "cell_type": "code",
      "source": [
        "temp_arr = np.around([-1.123131, 1.123131], 3)\n",
        "temp_arr"
      ],
      "metadata": {
        "colab": {
          "base_uri": "https://localhost:8080/"
        },
        "id": "IbpWfVogSFyw",
        "outputId": "1ad858ec-5d8b-401f-82cc-2f43461993c8"
      },
      "execution_count": 66,
      "outputs": [
        {
          "output_type": "execute_result",
          "data": {
            "text/plain": [
              "array([-1.123,  1.123])"
            ]
          },
          "metadata": {},
          "execution_count": 66
        }
      ]
    },
    {
      "cell_type": "code",
      "source": [
        "temp_arr = np.round([-1.123131, 1.123131], 3)\n",
        "temp_arr"
      ],
      "metadata": {
        "colab": {
          "base_uri": "https://localhost:8080/"
        },
        "id": "O4IXHs-0SQ6X",
        "outputId": "15606599-168e-4c22-8421-72510a26820d"
      },
      "execution_count": 67,
      "outputs": [
        {
          "output_type": "execute_result",
          "data": {
            "text/plain": [
              "array([-1.123,  1.123])"
            ]
          },
          "metadata": {},
          "execution_count": 67
        }
      ]
    },
    {
      "cell_type": "markdown",
      "source": [
        "- 소수점을 모두"
      ],
      "metadata": {
        "id": "c-4991pcURh4"
      }
    },
    {
      "cell_type": "code",
      "source": [
        "temp_arr = np.floor([-1.23456, 1.23456])\n",
        "print(temp_arr)"
      ],
      "metadata": {
        "colab": {
          "base_uri": "https://localhost:8080/"
        },
        "id": "TOSUlycuUT5f",
        "outputId": "46553b3a-ce9d-441e-abc7-44cf80cea173"
      },
      "execution_count": 72,
      "outputs": [
        {
          "output_type": "stream",
          "name": "stdout",
          "text": [
            "[-2.  1.]\n"
          ]
        }
      ]
    },
    {
      "cell_type": "code",
      "source": [
        "import time\n",
        "\n",
        "start_time = time.time()  # 현재 시간을 저장\n",
        "# 실행시간을 측정하고자 하는 코드\n",
        "\n",
        "temp_arr = np.floor([-1.23456, 1.23456])\n",
        "print(temp_arr)\n",
        "\n",
        "\n",
        "end_time = time.time()  # 현재 시간을 저장\n",
        "\n",
        "\n",
        "elapsed_time = end_time - start_time  # 코드 실행 시간 계산\n",
        "\n",
        "print(\"코드 실행 시간: \", elapsed_time, \"초\")\n",
        "\n"
      ],
      "metadata": {
        "colab": {
          "base_uri": "https://localhost:8080/"
        },
        "id": "EVkd1NAzUeNJ",
        "outputId": "314f0bae-e44c-402d-9b37-e3dfa9fe6bcf"
      },
      "execution_count": 75,
      "outputs": [
        {
          "output_type": "stream",
          "name": "stdout",
          "text": [
            "[-2.  1.]\n",
            "코드 실행 시간:  0.0014870166778564453 초\n"
          ]
        }
      ]
    },
    {
      "cell_type": "markdown",
      "source": [
        "## 조건문\n",
        "- where : 조건식 1개일 때 활용\n",
        "- select : 다중조건일 때 활용"
      ],
      "metadata": {
        "id": "dtGUcUGqVV-j"
      }
    },
    {
      "cell_type": "code",
      "source": [
        "temp_arr = np.arange(10)\n",
        "temp_arr"
      ],
      "metadata": {
        "colab": {
          "base_uri": "https://localhost:8080/"
        },
        "id": "i_llS0kLVidL",
        "outputId": "433cf4db-5d48-47f0-aa3b-7bd20915445b"
      },
      "execution_count": 77,
      "outputs": [
        {
          "output_type": "execute_result",
          "data": {
            "text/plain": [
              "array([0, 1, 2, 3, 4, 5, 6, 7, 8, 9])"
            ]
          },
          "metadata": {},
          "execution_count": 77
        }
      ]
    },
    {
      "cell_type": "markdown",
      "source": [
        "- np.where"
      ],
      "metadata": {
        "id": "mX8CWddnVqHr"
      }
    },
    {
      "cell_type": "code",
      "source": [
        "np.where(temp_arr < 5, temp_arr, 10*temp_arr)"
      ],
      "metadata": {
        "colab": {
          "base_uri": "https://localhost:8080/"
        },
        "id": "pKNh-WdVVryE",
        "outputId": "27f61891-ebea-4ac0-e0d4-3623625b823c"
      },
      "execution_count": 78,
      "outputs": [
        {
          "output_type": "execute_result",
          "data": {
            "text/plain": [
              "array([ 0,  1,  2,  3,  4, 50, 60, 70, 80, 90])"
            ]
          },
          "metadata": {},
          "execution_count": 78
        }
      ]
    },
    {
      "cell_type": "markdown",
      "source": [
        "- np.select(유용한 함수, 자주 이용됨)"
      ],
      "metadata": {
        "id": "4dXa136lV5yX"
      }
    },
    {
      "cell_type": "code",
      "source": [
        "temp_arr = np.arange(10)\n",
        "cond_list = [temp_arr>5, temp_arr <2]\n",
        "\n",
        "choice_list = [temp_arr *3, temp_arr + 10]\n",
        "\n",
        "np.select(cond_list, choice_list, default=temp_arr)"
      ],
      "metadata": {
        "colab": {
          "base_uri": "https://localhost:8080/"
        },
        "id": "sEjNYtE5V3Nk",
        "outputId": "ed09ab01-0ee6-4f4c-e262-a1ee3ee24ef1"
      },
      "execution_count": 80,
      "outputs": [
        {
          "output_type": "execute_result",
          "data": {
            "text/plain": [
              "array([10, 11,  2,  3,  4,  5, 18, 21, 24, 27])"
            ]
          },
          "metadata": {},
          "execution_count": 80
        }
      ]
    }
  ]
}